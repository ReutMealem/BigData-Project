{
 "cells": [
  {
   "cell_type": "code",
   "execution_count": 1,
   "metadata": {},
   "outputs": [],
   "source": [
    "import requests\n",
    "import pandas as pd\n",
    "from joblib import Parallel, delayed\n",
    "import time\n",
    "import networkx as nx\n",
    "from bs4 import BeautifulSoup\n",
    "import pycountry\n",
    "import re\n",
    "from itertools import product\n",
    "import ast \n",
    "import os\n",
    "import sys"
   ]
  },
  {
   "cell_type": "code",
   "execution_count": 2,
   "metadata": {},
   "outputs": [],
   "source": [
    "base_dir = '/home/reutme/Big_data/final_project'\n",
    "code_dir = os.path.join(base_dir, 'code')\n",
    "sys.path.append(code_dir)\n",
    "import const\n",
    "import params"
   ]
  },
  {
   "cell_type": "markdown",
   "metadata": {},
   "source": [
    "## Wikipedia"
   ]
  },
  {
   "cell_type": "code",
   "execution_count": 38,
   "metadata": {},
   "outputs": [
    {
     "name": "stdout",
     "output_type": "stream",
     "text": [
      "(119, 5)\n"
     ]
    },
    {
     "data": {
      "text/html": [
       "<div>\n",
       "<style scoped>\n",
       "    .dataframe tbody tr th:only-of-type {\n",
       "        vertical-align: middle;\n",
       "    }\n",
       "\n",
       "    .dataframe tbody tr th {\n",
       "        vertical-align: top;\n",
       "    }\n",
       "\n",
       "    .dataframe thead th {\n",
       "        text-align: right;\n",
       "    }\n",
       "</style>\n",
       "<table border=\"1\" class=\"dataframe\">\n",
       "  <thead>\n",
       "    <tr style=\"text-align: right;\">\n",
       "      <th></th>\n",
       "      <th>Date</th>\n",
       "      <th>War Name</th>\n",
       "      <th>Combatants</th>\n",
       "      <th>Location</th>\n",
       "      <th>Country Codes</th>\n",
       "    </tr>\n",
       "  </thead>\n",
       "  <tbody>\n",
       "    <tr>\n",
       "      <th>0</th>\n",
       "      <td>1939–1945</td>\n",
       "      <td>World War II</td>\n",
       "      <td>Allied Powers vs. Axis Powers</td>\n",
       "      <td>Global</td>\n",
       "      <td></td>\n",
       "    </tr>\n",
       "    <tr>\n",
       "      <th>1</th>\n",
       "      <td>1207–1405</td>\n",
       "      <td>Mongol invasions and conquests</td>\n",
       "      <td>Mongol Empire vs. various states in Eurasia</td>\n",
       "      <td>Asia and Europe</td>\n",
       "      <td></td>\n",
       "    </tr>\n",
       "    <tr>\n",
       "      <th>2</th>\n",
       "      <td>220–280</td>\n",
       "      <td>Three Kingdoms</td>\n",
       "      <td>Multiple sides</td>\n",
       "      <td>China</td>\n",
       "      <td></td>\n",
       "    </tr>\n",
       "    <tr>\n",
       "      <th>3</th>\n",
       "      <td>1850–1864</td>\n",
       "      <td>Taiping Rebellion</td>\n",
       "      <td>Qing Dynasty vs. Taiping Heavenly Kingdom</td>\n",
       "      <td>China</td>\n",
       "      <td></td>\n",
       "    </tr>\n",
       "    <tr>\n",
       "      <th>4</th>\n",
       "      <td>1914–1918</td>\n",
       "      <td>World War I</td>\n",
       "      <td>Allied Powers vs. Central Powers</td>\n",
       "      <td>Global</td>\n",
       "      <td></td>\n",
       "    </tr>\n",
       "  </tbody>\n",
       "</table>\n",
       "</div>"
      ],
      "text/plain": [
       "        Date                        War Name  \\\n",
       "0  1939–1945                    World War II   \n",
       "1  1207–1405  Mongol invasions and conquests   \n",
       "2    220–280                  Three Kingdoms   \n",
       "3  1850–1864               Taiping Rebellion   \n",
       "4  1914–1918                     World War I   \n",
       "\n",
       "                                    Combatants         Location Country Codes  \n",
       "0                Allied Powers vs. Axis Powers           Global                \n",
       "1  Mongol Empire vs. various states in Eurasia  Asia and Europe                \n",
       "2                               Multiple sides            China                \n",
       "3    Qing Dynasty vs. Taiping Heavenly Kingdom            China                \n",
       "4             Allied Powers vs. Central Powers           Global                "
      ]
     },
     "execution_count": 38,
     "metadata": {},
     "output_type": "execute_result"
    }
   ],
   "source": [
    "\n",
    "# Fetch the Wikipedia page URL\n",
    "url = \"https://en.wikipedia.org/wiki/List_of_wars_by_death_toll\"\n",
    "response = requests.get(url)\n",
    "soup = BeautifulSoup(response.content, 'html.parser')\n",
    "\n",
    "# Find the first wikitable\n",
    "tables = soup.find_all('table', {'class': 'wikitable'})\n",
    "war_table = tables[0]  # First table contains the war data\n",
    "\n",
    "# Extract rows from the table\n",
    "rows = war_table.find_all('tr')\n",
    "data = []\n",
    "\n",
    "# Loop through rows and extract required information\n",
    "for row in rows[1:]:  # Skip the header\n",
    "    cols = row.find_all('td')\n",
    "    if len(cols) >= 5:  # Ensure enough columns exist\n",
    "        war_name = cols[0].text.strip()\n",
    "        death_range = cols[1].text.strip()\n",
    "        date = cols[2].text.strip()\n",
    "        combatants = cols[3].text.strip()\n",
    "        location = cols[4].text.strip()\n",
    "        data.append([date, war_name, combatants, location])\n",
    "\n",
    "# Create DataFrame\n",
    "df = pd.DataFrame(data, columns=[\"Date\", \"War Name\", \"Combatants\", \"Location\"])\n",
    "\n",
    "# Display DataFrame\n",
    "print(df.shape)\n",
    "df.head()"
   ]
  },
  {
   "cell_type": "code",
   "execution_count": 43,
   "metadata": {},
   "outputs": [
    {
     "data": {
      "text/plain": [
       "0             [1939, 1940, 1941, 1942, 1943, 1944, 1945]\n",
       "1      [1207, 1208, 1209, 1210, 1211, 1212, 1213, 121...\n",
       "2                                                     []\n",
       "3      [1850, 1851, 1852, 1853, 1854, 1855, 1856, 185...\n",
       "4                         [1914, 1915, 1916, 1917, 1918]\n",
       "                             ...                        \n",
       "114                                         [1904, 1905]\n",
       "115                                               [1948]\n",
       "116                                               [2023]\n",
       "117    [1992, 1993, 1994, 1995, 1996, 1997, 1998, 199...\n",
       "118    [1975, 1976, 1977, 1978, 1979, 1980, 1981, 198...\n",
       "Name: Date, Length: 119, dtype: object"
      ]
     },
     "execution_count": 43,
     "metadata": {},
     "output_type": "execute_result"
    }
   ],
   "source": [
    "def parse_years(date_str):\n",
    "    years = []\n",
    "    ranges = re.findall(r'(\\d{4})(?:-(\\d{4}))?', date_str)\n",
    "    if ranges:\n",
    "        if len(ranges) > 1:\n",
    "            start = int(ranges[0][0]) \n",
    "            end = int(ranges[1][0])\n",
    "            year_start = min(start, end)\n",
    "            year_end = max(start, end)\n",
    "            years = [year for year in range(int(year_start), int(year_end)+1)]\n",
    "        else:\n",
    "            years = [int(ranges[0][0])]\n",
    "\n",
    "    else: \n",
    "        years = []\n",
    "\n",
    "    return years\n",
    "\n",
    "# Parse years and filter rows for wars after 1900\n",
    "df['Date'].apply(parse_years)"
   ]
  },
  {
   "cell_type": "code",
   "execution_count": 3,
   "metadata": {},
   "outputs": [],
   "source": [
    "df = pd.read_csv(os.path.join(const.data_base_dir,\"war_table.csv\"))"
   ]
  },
  {
   "cell_type": "code",
   "execution_count": 44,
   "metadata": {},
   "outputs": [],
   "source": [
    "df['List of War Years'] = df['Date'].apply(parse_years)"
   ]
  },
  {
   "cell_type": "code",
   "execution_count": 4,
   "metadata": {},
   "outputs": [
    {
     "data": {
      "text/html": [
       "<div>\n",
       "<style scoped>\n",
       "    .dataframe tbody tr th:only-of-type {\n",
       "        vertical-align: middle;\n",
       "    }\n",
       "\n",
       "    .dataframe tbody tr th {\n",
       "        vertical-align: top;\n",
       "    }\n",
       "\n",
       "    .dataframe thead th {\n",
       "        text-align: right;\n",
       "    }\n",
       "</style>\n",
       "<table border=\"1\" class=\"dataframe\">\n",
       "  <thead>\n",
       "    <tr style=\"text-align: right;\">\n",
       "      <th></th>\n",
       "      <th>Date</th>\n",
       "      <th>War Name</th>\n",
       "      <th>Combatants</th>\n",
       "      <th>Location</th>\n",
       "      <th>List of War Years</th>\n",
       "    </tr>\n",
       "  </thead>\n",
       "  <tbody>\n",
       "    <tr>\n",
       "      <th>0</th>\n",
       "      <td>1939–1945</td>\n",
       "      <td>World War II</td>\n",
       "      <td>Allied Powers vs. Axis Powers</td>\n",
       "      <td>Global</td>\n",
       "      <td>[1939, 1940, 1941, 1942, 1943, 1944, 1945]</td>\n",
       "    </tr>\n",
       "    <tr>\n",
       "      <th>1</th>\n",
       "      <td>1207–1405</td>\n",
       "      <td>Mongol invasions and conquests</td>\n",
       "      <td>Mongol Empire vs. various states in Eurasia</td>\n",
       "      <td>Asia and Europe</td>\n",
       "      <td>[1207, 1208, 1209, 1210, 1211, 1212, 1213, 121...</td>\n",
       "    </tr>\n",
       "    <tr>\n",
       "      <th>2</th>\n",
       "      <td>220–280</td>\n",
       "      <td>Three Kingdoms</td>\n",
       "      <td>Multiple sides</td>\n",
       "      <td>China</td>\n",
       "      <td>[]</td>\n",
       "    </tr>\n",
       "    <tr>\n",
       "      <th>3</th>\n",
       "      <td>1850–1864</td>\n",
       "      <td>Taiping Rebellion</td>\n",
       "      <td>Qing Dynasty vs. Taiping Heavenly Kingdom</td>\n",
       "      <td>China</td>\n",
       "      <td>[1850, 1851, 1852, 1853, 1854, 1855, 1856, 185...</td>\n",
       "    </tr>\n",
       "    <tr>\n",
       "      <th>4</th>\n",
       "      <td>1914–1918</td>\n",
       "      <td>World War I</td>\n",
       "      <td>Allied Powers vs. Central Powers</td>\n",
       "      <td>Global</td>\n",
       "      <td>[1914, 1915, 1916, 1917, 1918]</td>\n",
       "    </tr>\n",
       "  </tbody>\n",
       "</table>\n",
       "</div>"
      ],
      "text/plain": [
       "        Date                        War Name  \\\n",
       "0  1939–1945                    World War II   \n",
       "1  1207–1405  Mongol invasions and conquests   \n",
       "2    220–280                  Three Kingdoms   \n",
       "3  1850–1864               Taiping Rebellion   \n",
       "4  1914–1918                     World War I   \n",
       "\n",
       "                                    Combatants         Location  \\\n",
       "0                Allied Powers vs. Axis Powers           Global   \n",
       "1  Mongol Empire vs. various states in Eurasia  Asia and Europe   \n",
       "2                               Multiple sides            China   \n",
       "3    Qing Dynasty vs. Taiping Heavenly Kingdom            China   \n",
       "4             Allied Powers vs. Central Powers           Global   \n",
       "\n",
       "                                   List of War Years  \n",
       "0         [1939, 1940, 1941, 1942, 1943, 1944, 1945]  \n",
       "1  [1207, 1208, 1209, 1210, 1211, 1212, 1213, 121...  \n",
       "2                                                 []  \n",
       "3  [1850, 1851, 1852, 1853, 1854, 1855, 1856, 185...  \n",
       "4                     [1914, 1915, 1916, 1917, 1918]  "
      ]
     },
     "execution_count": 4,
     "metadata": {},
     "output_type": "execute_result"
    }
   ],
   "source": [
    "df.head()"
   ]
  },
  {
   "cell_type": "code",
   "execution_count": 49,
   "metadata": {},
   "outputs": [],
   "source": [
    "wars_data_file = os.path.join(const.data_base_dir,\"war_table.csv\")\n",
    "df.to_csv(wars_data_file, index=False)"
   ]
  },
  {
   "cell_type": "markdown",
   "metadata": {},
   "source": [
    "### Preprocess the wars participants data frame"
   ]
  },
  {
   "cell_type": "code",
   "execution_count": 50,
   "metadata": {},
   "outputs": [],
   "source": [
    "wars_df = pd.read_csv(wars_data_file)"
   ]
  },
  {
   "cell_type": "markdown",
   "metadata": {},
   "source": [
    "First I need to save the wars name as txt file"
   ]
  },
  {
   "cell_type": "code",
   "execution_count": null,
   "metadata": {},
   "outputs": [],
   "source": [
    "# Specify the file name\n",
    "file_name = \"war_names.txt\"\n",
    "\n",
    "# Open the file in write mode and write each item on a new line\n",
    "with open(file_name, \"w\") as file:\n",
    "    for item in wars_df['War Name'].to_list():\n",
    "        file.write(f\"{item}\\n\")\n",
    "\n",
    "print(f\"The list has been successfully exported to {file_name}.\")"
   ]
  },
  {
   "cell_type": "markdown",
   "metadata": {},
   "source": [
    "Based on the wars names I extracted war countries participants using GPT4o"
   ]
  },
  {
   "cell_type": "code",
   "execution_count": 83,
   "metadata": {},
   "outputs": [],
   "source": [
    "original_participants_war_file = os.path.join(const.data_base_dir,\"complete_war_names_and_countries.csv\")"
   ]
  },
  {
   "cell_type": "code",
   "execution_count": 84,
   "metadata": {},
   "outputs": [],
   "source": [
    "war_participants_df = pd.read_csv(original_participants_war_file)"
   ]
  },
  {
   "cell_type": "code",
   "execution_count": 85,
   "metadata": {},
   "outputs": [
    {
     "data": {
      "text/html": [
       "<div>\n",
       "<style scoped>\n",
       "    .dataframe tbody tr th:only-of-type {\n",
       "        vertical-align: middle;\n",
       "    }\n",
       "\n",
       "    .dataframe tbody tr th {\n",
       "        vertical-align: top;\n",
       "    }\n",
       "\n",
       "    .dataframe thead th {\n",
       "        text-align: right;\n",
       "    }\n",
       "</style>\n",
       "<table border=\"1\" class=\"dataframe\">\n",
       "  <thead>\n",
       "    <tr style=\"text-align: right;\">\n",
       "      <th></th>\n",
       "      <th>War Name</th>\n",
       "      <th>Countries Participants</th>\n",
       "    </tr>\n",
       "  </thead>\n",
       "  <tbody>\n",
       "    <tr>\n",
       "      <th>0</th>\n",
       "      <td>1. **World War II</td>\n",
       "      <td>United States, Soviet Union, United Kingdom, C...</td>\n",
       "    </tr>\n",
       "    <tr>\n",
       "      <th>1</th>\n",
       "      <td>2. **Mongol invasions and conquests</td>\n",
       "      <td>Mongolia, China, Russia.</td>\n",
       "    </tr>\n",
       "  </tbody>\n",
       "</table>\n",
       "</div>"
      ],
      "text/plain": [
       "                              War Name  \\\n",
       "0                    1. **World War II   \n",
       "1  2. **Mongol invasions and conquests   \n",
       "\n",
       "                              Countries Participants  \n",
       "0  United States, Soviet Union, United Kingdom, C...  \n",
       "1                           Mongolia, China, Russia.  "
      ]
     },
     "execution_count": 85,
     "metadata": {},
     "output_type": "execute_result"
    }
   ],
   "source": [
    "war_participants_df.head(2)"
   ]
  },
  {
   "cell_type": "markdown",
   "metadata": {},
   "source": [
    "clean the data frame"
   ]
  },
  {
   "cell_type": "code",
   "execution_count": 86,
   "metadata": {},
   "outputs": [],
   "source": [
    "# Clean the War Name column\n",
    "war_participants_df['War Name'] = war_participants_df['War Name'].str.replace('^\\d+\\.\\s*\\*+\\s*', '', regex=True)\n",
    "# Remove trailing periods from Countries Participants\n",
    "war_participants_df['Countries Participants'] = war_participants_df['Countries Participants'].str.rstrip('.')"
   ]
  },
  {
   "cell_type": "code",
   "execution_count": 89,
   "metadata": {},
   "outputs": [
    {
     "name": "stdout",
     "output_type": "stream",
     "text": [
      "(118, 2)\n"
     ]
    },
    {
     "data": {
      "text/html": [
       "<div>\n",
       "<style scoped>\n",
       "    .dataframe tbody tr th:only-of-type {\n",
       "        vertical-align: middle;\n",
       "    }\n",
       "\n",
       "    .dataframe tbody tr th {\n",
       "        vertical-align: top;\n",
       "    }\n",
       "\n",
       "    .dataframe thead th {\n",
       "        text-align: right;\n",
       "    }\n",
       "</style>\n",
       "<table border=\"1\" class=\"dataframe\">\n",
       "  <thead>\n",
       "    <tr style=\"text-align: right;\">\n",
       "      <th></th>\n",
       "      <th>War Name</th>\n",
       "      <th>Countries Participants</th>\n",
       "    </tr>\n",
       "  </thead>\n",
       "  <tbody>\n",
       "    <tr>\n",
       "      <th>0</th>\n",
       "      <td>World War II</td>\n",
       "      <td>United States, Soviet Union, United Kingdom, C...</td>\n",
       "    </tr>\n",
       "    <tr>\n",
       "      <th>1</th>\n",
       "      <td>Mongol invasions and conquests</td>\n",
       "      <td>Mongolia, China, Russia</td>\n",
       "    </tr>\n",
       "  </tbody>\n",
       "</table>\n",
       "</div>"
      ],
      "text/plain": [
       "                         War Name  \\\n",
       "0                    World War II   \n",
       "1  Mongol invasions and conquests   \n",
       "\n",
       "                              Countries Participants  \n",
       "0  United States, Soviet Union, United Kingdom, C...  \n",
       "1                            Mongolia, China, Russia  "
      ]
     },
     "execution_count": 89,
     "metadata": {},
     "output_type": "execute_result"
    }
   ],
   "source": [
    "print(war_participants_df.shape)\n",
    "war_participants_df.head(2)\n"
   ]
  },
  {
   "cell_type": "code",
   "execution_count": 90,
   "metadata": {},
   "outputs": [],
   "source": [
    "participants_war_file = os.path.join(const.data_base_dir, \"process_war_names_and_countries.csv\")\n",
    "war_participants_df.to_csv(participants_war_file, index=False)"
   ]
  },
  {
   "cell_type": "markdown",
   "metadata": {},
   "source": [
    "### Merge war data frame"
   ]
  },
  {
   "cell_type": "code",
   "execution_count": 2,
   "metadata": {},
   "outputs": [],
   "source": [
    "participants_war_file =  os.path.join(const.data_base_dir, \"process_war_names_and_countries.csv\")\n",
    "wars_data_file = os.path.join(const.data_base_dir, \"war_table.csv\")\n",
    "\n",
    "war_participants_df = pd.read_csv(participants_war_file)\n",
    "wars_df = pd.read_csv(wars_data_file)"
   ]
  },
  {
   "cell_type": "code",
   "execution_count": 3,
   "metadata": {},
   "outputs": [
    {
     "name": "stdout",
     "output_type": "stream",
     "text": [
      "                         War Name  \\\n",
      "0                    World War II   \n",
      "1  Mongol invasions and conquests   \n",
      "\n",
      "                              Countries Participants  \n",
      "0  United States, Soviet Union, United Kingdom, C...  \n",
      "1                            Mongolia, China, Russia  \n",
      "\n",
      "\n",
      "\n",
      "\n",
      "        Date                        War Name  \\\n",
      "0  1939–1945                    World War II   \n",
      "1  1207–1405  Mongol invasions and conquests   \n",
      "\n",
      "                                    Combatants         Location  \\\n",
      "0                Allied Powers vs. Axis Powers           Global   \n",
      "1  Mongol Empire vs. various states in Eurasia  Asia and Europe   \n",
      "\n",
      "                                   List of War Years  \n",
      "0         [1939, 1940, 1941, 1942, 1943, 1944, 1945]  \n",
      "1  [1207, 1208, 1209, 1210, 1211, 1212, 1213, 121...  \n"
     ]
    }
   ],
   "source": [
    "print(war_participants_df.head(2))\n",
    "print(\"\\n\\n\\n\")\n",
    "print(wars_df.head(2))"
   ]
  },
  {
   "cell_type": "code",
   "execution_count": 4,
   "metadata": {},
   "outputs": [],
   "source": [
    "# Merge the datasets based on the War Name\n",
    "war_merged_data = pd.merge(wars_df, war_participants_df, on='War Name', how='left')"
   ]
  },
  {
   "cell_type": "code",
   "execution_count": 5,
   "metadata": {},
   "outputs": [],
   "source": [
    "war_merged_data = war_merged_data.dropna()"
   ]
  },
  {
   "cell_type": "markdown",
   "metadata": {},
   "source": [
    "### Add countries participants country code"
   ]
  },
  {
   "cell_type": "markdown",
   "metadata": {},
   "source": [
    "#### Check countries without country code"
   ]
  },
  {
   "cell_type": "code",
   "execution_count": 6,
   "metadata": {},
   "outputs": [],
   "source": [
    "# Function to convert participant names to country codes\n",
    "def get_country_codes(idx, participants):\n",
    "    countries = []\n",
    "    nan_country_code = []\n",
    "    for country_name in participants.split(\",\"):\n",
    "        country_name = country_name.strip()\n",
    "        country = pycountry.countries.get(name=country_name)\n",
    "        if country:\n",
    "            countries.append(country.alpha_3)\n",
    "        else:\n",
    "            print(idx, country_name)\n",
    "            nan_country_code.append(country_name)\n",
    "    return \", \".join(countries), nan_country_code"
   ]
  },
  {
   "cell_type": "code",
   "execution_count": 7,
   "metadata": {},
   "outputs": [
    {
     "name": "stdout",
     "output_type": "stream",
     "text": [
      "0 Soviet Union\n",
      "1 Russia\n",
      "4 Russia\n",
      "4 Turkey\n",
      "6 Iran\n",
      "11 Russia\n",
      "13 England\n",
      "14 Britain\n",
      "14 Prussia\n",
      "14 Russia\n",
      "19 Vietnam\n",
      "21 Russia\n",
      "23 North Korea\n",
      "23 South Korea\n",
      "24 England\n",
      "25 Russia\n",
      "31 Russia\n",
      "33 Vietnam\n",
      "36 Turkey\n",
      "38 Britain\n",
      "38 Prussia\n",
      "38 Russia\n",
      "43 Britain\n",
      "45 Korea\n",
      "51 Vietnam\n",
      "55 Britain\n",
      "55 Prussia\n",
      "56 Iran\n",
      "57 Britain\n",
      "58 Russia\n",
      "58 Britain\n",
      "58 Turkey\n",
      "59 Syria\n",
      "62 Turkey\n",
      "64 Russia\n",
      "68 Tanzania\n",
      "73 Turkey\n",
      "77 Vietnam\n",
      "80 Vietnam\n",
      "87 Turkey\n",
      "90 Korea\n",
      "96 Russia\n",
      "101 Turkey\n",
      "104 Russia\n",
      "107 Iran\n",
      "114 Russia\n",
      "115 Syria\n"
     ]
    }
   ],
   "source": [
    "countries_code_list = []\n",
    "all_nan_country_code = []\n",
    "for idx, row in war_merged_data.iterrows():\n",
    "    countries_code, nan_country_code = get_country_codes(idx, row[\"Countries Participants\"])\n",
    "    all_nan_country_code.extend(nan_country_code)\n"
   ]
  },
  {
   "cell_type": "code",
   "execution_count": 8,
   "metadata": {},
   "outputs": [
    {
     "data": {
      "text/plain": [
       "{'Britain',\n",
       " 'England',\n",
       " 'Iran',\n",
       " 'Korea',\n",
       " 'North Korea',\n",
       " 'Prussia',\n",
       " 'Russia',\n",
       " 'South Korea',\n",
       " 'Soviet Union',\n",
       " 'Syria',\n",
       " 'Tanzania',\n",
       " 'Turkey',\n",
       " 'Vietnam'}"
      ]
     },
     "execution_count": 8,
     "metadata": {},
     "output_type": "execute_result"
    }
   ],
   "source": [
    "set(all_nan_country_code)"
   ]
  },
  {
   "cell_type": "markdown",
   "metadata": {},
   "source": [
    "Create seperate dictionary for countries that there is no country code using pycountry"
   ]
  },
  {
   "cell_type": "code",
   "execution_count": 9,
   "metadata": {},
   "outputs": [],
   "source": [
    "# Custom mapping for countries not directly in pycountry\n",
    "custom_country_codes_3_alpha = {\n",
    "    \"Britain\": \"GBR\",\n",
    "    \"England\": \"GBR\",\n",
    "    \"Iran\": \"IRN\",\n",
    "    \"Korea\": \"PRK\",\n",
    "    \"North Korea\": \"PRK\",\n",
    "    \"Prussia\": \"DEU\",  # Part of modern Germany\n",
    "    \"Russia\": \"RUS\",\n",
    "    \"South Korea\": \"KOR\",\n",
    "    \"Soviet Union\": \"SUN\",  # Historical\n",
    "    \"Syria\": \"SYR\",\n",
    "    \"Tanzania\": \"TZA\",\n",
    "    \"Turkey\": \"TUR\",\n",
    "    \"Vietnam\": \"VNM\"\n",
    "}\n",
    "\n",
    "custom_country_codes_2_alpha = {\n",
    "    \"Britain\": \"GB\",\n",
    "    \"England\": \"GB\",\n",
    "    \"Iran\": \"IR\",\n",
    "    \"Korea\": \"PR\",\n",
    "    \"North Korea\": \"PR\",\n",
    "    \"Prussia\": \"DE\",  # Part of modern Germany\n",
    "    \"Russia\": \"RU\",\n",
    "    \"South Korea\": \"KO\",\n",
    "    \"Soviet Union\": \"SU\",  # Historical\n",
    "    \"Syria\": \"SY\",\n",
    "    \"Tanzania\": \"TZ\",\n",
    "    \"Turkey\": \"TU\",\n",
    "    \"Vietnam\": \"VN\"\n",
    "}"
   ]
  },
  {
   "cell_type": "markdown",
   "metadata": {},
   "source": [
    "#### Update the wars df with the participants countries code"
   ]
  },
  {
   "cell_type": "code",
   "execution_count": 10,
   "metadata": {},
   "outputs": [],
   "source": [
    "# Function to convert participant names to country codes\n",
    "def get_country_codes(participants):\n",
    "    countries = []\n",
    "    for country_name in participants.split(\",\"):\n",
    "        country_name = country_name.strip()\n",
    "        country = pycountry.countries.get(name=country_name)\n",
    "        if country:\n",
    "            countries.append(country.alpha_2)\n",
    "        else: \n",
    "            countries.append(custom_country_codes_2_alpha[country_name])\n",
    "    return \", \".join(countries)"
   ]
  },
  {
   "cell_type": "code",
   "execution_count": 11,
   "metadata": {},
   "outputs": [],
   "source": [
    "war_merged_data.loc[:, \"Country Codes\"] = war_merged_data[\"Countries Participants\"].apply(get_country_codes)\n"
   ]
  },
  {
   "cell_type": "code",
   "execution_count": 12,
   "metadata": {},
   "outputs": [
    {
     "data": {
      "text/html": [
       "<div>\n",
       "<style scoped>\n",
       "    .dataframe tbody tr th:only-of-type {\n",
       "        vertical-align: middle;\n",
       "    }\n",
       "\n",
       "    .dataframe tbody tr th {\n",
       "        vertical-align: top;\n",
       "    }\n",
       "\n",
       "    .dataframe thead th {\n",
       "        text-align: right;\n",
       "    }\n",
       "</style>\n",
       "<table border=\"1\" class=\"dataframe\">\n",
       "  <thead>\n",
       "    <tr style=\"text-align: right;\">\n",
       "      <th></th>\n",
       "      <th>Date</th>\n",
       "      <th>War Name</th>\n",
       "      <th>Combatants</th>\n",
       "      <th>Location</th>\n",
       "      <th>List of War Years</th>\n",
       "      <th>Countries Participants</th>\n",
       "      <th>Country Codes</th>\n",
       "    </tr>\n",
       "  </thead>\n",
       "  <tbody>\n",
       "    <tr>\n",
       "      <th>0</th>\n",
       "      <td>1939–1945</td>\n",
       "      <td>World War II</td>\n",
       "      <td>Allied Powers vs. Axis Powers</td>\n",
       "      <td>Global</td>\n",
       "      <td>[1939, 1940, 1941, 1942, 1943, 1944, 1945]</td>\n",
       "      <td>United States, Soviet Union, United Kingdom, C...</td>\n",
       "      <td>US, SU, GB, CN, FR, DE, IT, JP</td>\n",
       "    </tr>\n",
       "    <tr>\n",
       "      <th>1</th>\n",
       "      <td>1207–1405</td>\n",
       "      <td>Mongol invasions and conquests</td>\n",
       "      <td>Mongol Empire vs. various states in Eurasia</td>\n",
       "      <td>Asia and Europe</td>\n",
       "      <td>[1207, 1208, 1209, 1210, 1211, 1212, 1213, 121...</td>\n",
       "      <td>Mongolia, China, Russia</td>\n",
       "      <td>MN, CN, RU</td>\n",
       "    </tr>\n",
       "    <tr>\n",
       "      <th>2</th>\n",
       "      <td>220–280</td>\n",
       "      <td>Three Kingdoms</td>\n",
       "      <td>Multiple sides</td>\n",
       "      <td>China</td>\n",
       "      <td>[]</td>\n",
       "      <td>China</td>\n",
       "      <td>CN</td>\n",
       "    </tr>\n",
       "    <tr>\n",
       "      <th>3</th>\n",
       "      <td>1850–1864</td>\n",
       "      <td>Taiping Rebellion</td>\n",
       "      <td>Qing Dynasty vs. Taiping Heavenly Kingdom</td>\n",
       "      <td>China</td>\n",
       "      <td>[1850, 1851, 1852, 1853, 1854, 1855, 1856, 185...</td>\n",
       "      <td>China</td>\n",
       "      <td>CN</td>\n",
       "    </tr>\n",
       "    <tr>\n",
       "      <th>4</th>\n",
       "      <td>1914–1918</td>\n",
       "      <td>World War I</td>\n",
       "      <td>Allied Powers vs. Central Powers</td>\n",
       "      <td>Global</td>\n",
       "      <td>[1914, 1915, 1916, 1917, 1918]</td>\n",
       "      <td>France, Russia, United Kingdom, Italy, United ...</td>\n",
       "      <td>FR, RU, GB, IT, US, DE, AT, TU, BG</td>\n",
       "    </tr>\n",
       "    <tr>\n",
       "      <th>5</th>\n",
       "      <td>1618–1683</td>\n",
       "      <td>Manchu Conquest of China</td>\n",
       "      <td>Manchu vs. Ming Dynasty</td>\n",
       "      <td>China</td>\n",
       "      <td>[1618, 1619, 1620, 1621, 1622, 1623, 1624, 162...</td>\n",
       "      <td>China</td>\n",
       "      <td>CN</td>\n",
       "    </tr>\n",
       "    <tr>\n",
       "      <th>6</th>\n",
       "      <td>1369–1405</td>\n",
       "      <td>Conquests of Timur</td>\n",
       "      <td>Timurid Empire vs. various states in Asia</td>\n",
       "      <td>Central Asia, West Asia, and South Asia</td>\n",
       "      <td>[1369, 1370, 1371, 1372, 1373, 1374, 1375, 137...</td>\n",
       "      <td>Uzbekistan, Iran, India</td>\n",
       "      <td>UZ, IR, IN</td>\n",
       "    </tr>\n",
       "    <tr>\n",
       "      <th>8</th>\n",
       "      <td>1618–1648</td>\n",
       "      <td>Thirty Years' War</td>\n",
       "      <td>Anti-Imperial Alliance vs. Imperial Alliance</td>\n",
       "      <td>Europe</td>\n",
       "      <td>[1618, 1619, 1620, 1621, 1622, 1623, 1624, 162...</td>\n",
       "      <td>France, Spain, Sweden, Germany</td>\n",
       "      <td>FR, ES, SE, DE</td>\n",
       "    </tr>\n",
       "    <tr>\n",
       "      <th>9</th>\n",
       "      <td>1519–1530</td>\n",
       "      <td>Spanish conquest of Mexico</td>\n",
       "      <td>Spanish Empire and allies vs. Aztec Empire and...</td>\n",
       "      <td>Mexico</td>\n",
       "      <td>[1519, 1520, 1521, 1522, 1523, 1524, 1525, 152...</td>\n",
       "      <td>Spain, Mexico</td>\n",
       "      <td>ES, MX</td>\n",
       "    </tr>\n",
       "    <tr>\n",
       "      <th>10</th>\n",
       "      <td>1533–1572</td>\n",
       "      <td>Spanish conquest of the Inca Empire</td>\n",
       "      <td>Spanish Empire vs. Inca Empire</td>\n",
       "      <td>South America</td>\n",
       "      <td>[1533, 1534, 1535, 1536, 1537, 1538, 1539, 154...</td>\n",
       "      <td>Spain, Peru</td>\n",
       "      <td>ES, PE</td>\n",
       "    </tr>\n",
       "  </tbody>\n",
       "</table>\n",
       "</div>"
      ],
      "text/plain": [
       "         Date                             War Name  \\\n",
       "0   1939–1945                         World War II   \n",
       "1   1207–1405       Mongol invasions and conquests   \n",
       "2     220–280                       Three Kingdoms   \n",
       "3   1850–1864                    Taiping Rebellion   \n",
       "4   1914–1918                          World War I   \n",
       "5   1618–1683             Manchu Conquest of China   \n",
       "6   1369–1405                   Conquests of Timur   \n",
       "8   1618–1648                    Thirty Years' War   \n",
       "9   1519–1530           Spanish conquest of Mexico   \n",
       "10  1533–1572  Spanish conquest of the Inca Empire   \n",
       "\n",
       "                                           Combatants  \\\n",
       "0                       Allied Powers vs. Axis Powers   \n",
       "1         Mongol Empire vs. various states in Eurasia   \n",
       "2                                      Multiple sides   \n",
       "3           Qing Dynasty vs. Taiping Heavenly Kingdom   \n",
       "4                    Allied Powers vs. Central Powers   \n",
       "5                             Manchu vs. Ming Dynasty   \n",
       "6           Timurid Empire vs. various states in Asia   \n",
       "8        Anti-Imperial Alliance vs. Imperial Alliance   \n",
       "9   Spanish Empire and allies vs. Aztec Empire and...   \n",
       "10                     Spanish Empire vs. Inca Empire   \n",
       "\n",
       "                                   Location  \\\n",
       "0                                    Global   \n",
       "1                           Asia and Europe   \n",
       "2                                     China   \n",
       "3                                     China   \n",
       "4                                    Global   \n",
       "5                                     China   \n",
       "6   Central Asia, West Asia, and South Asia   \n",
       "8                                    Europe   \n",
       "9                                    Mexico   \n",
       "10                            South America   \n",
       "\n",
       "                                    List of War Years  \\\n",
       "0          [1939, 1940, 1941, 1942, 1943, 1944, 1945]   \n",
       "1   [1207, 1208, 1209, 1210, 1211, 1212, 1213, 121...   \n",
       "2                                                  []   \n",
       "3   [1850, 1851, 1852, 1853, 1854, 1855, 1856, 185...   \n",
       "4                      [1914, 1915, 1916, 1917, 1918]   \n",
       "5   [1618, 1619, 1620, 1621, 1622, 1623, 1624, 162...   \n",
       "6   [1369, 1370, 1371, 1372, 1373, 1374, 1375, 137...   \n",
       "8   [1618, 1619, 1620, 1621, 1622, 1623, 1624, 162...   \n",
       "9   [1519, 1520, 1521, 1522, 1523, 1524, 1525, 152...   \n",
       "10  [1533, 1534, 1535, 1536, 1537, 1538, 1539, 154...   \n",
       "\n",
       "                               Countries Participants  \\\n",
       "0   United States, Soviet Union, United Kingdom, C...   \n",
       "1                             Mongolia, China, Russia   \n",
       "2                                               China   \n",
       "3                                               China   \n",
       "4   France, Russia, United Kingdom, Italy, United ...   \n",
       "5                                               China   \n",
       "6                             Uzbekistan, Iran, India   \n",
       "8                      France, Spain, Sweden, Germany   \n",
       "9                                       Spain, Mexico   \n",
       "10                                        Spain, Peru   \n",
       "\n",
       "                         Country Codes  \n",
       "0       US, SU, GB, CN, FR, DE, IT, JP  \n",
       "1                           MN, CN, RU  \n",
       "2                                   CN  \n",
       "3                                   CN  \n",
       "4   FR, RU, GB, IT, US, DE, AT, TU, BG  \n",
       "5                                   CN  \n",
       "6                           UZ, IR, IN  \n",
       "8                       FR, ES, SE, DE  \n",
       "9                               ES, MX  \n",
       "10                              ES, PE  "
      ]
     },
     "execution_count": 12,
     "metadata": {},
     "output_type": "execute_result"
    }
   ],
   "source": [
    "war_merged_data.head(10)"
   ]
  },
  {
   "cell_type": "code",
   "execution_count": 154,
   "metadata": {},
   "outputs": [],
   "source": [
    "merged_wars_data_file = os.path.join(const.data_base_dir, \"merged_war_data.csv\")\n",
    "war_merged_data.to_csv(merged_wars_data_file, index=False)"
   ]
  },
  {
   "cell_type": "markdown",
   "metadata": {},
   "source": [
    "#### Expand the data frame for each combination of Country Codes and List of War Years "
   ]
  },
  {
   "cell_type": "code",
   "execution_count": 21,
   "metadata": {},
   "outputs": [],
   "source": [
    "merged_wars_data_file = merged_wars_data_file = os.path.join(const.data_base_dir, \"merged_war_data.csv\")\n",
    "war_merged_data = pd.read_csv(merged_wars_data_file)"
   ]
  },
  {
   "cell_type": "code",
   "execution_count": 22,
   "metadata": {},
   "outputs": [],
   "source": [
    "def expand_dataframe(row):\n",
    "    years = row[\"List of War Years\"]\n",
    "    codes = row[\"Country Codes\"]\n",
    "    min_year = min(years) if years else None  # Compute the minimum year or None if the list is empty\n",
    "    max_year = max(years) if years else None  # Compute the maximum year or None if the list is empty\n",
    "    return pd.DataFrame(\n",
    "        list(product(years, codes)), columns=[\"Year\", \"Country Code\"]\n",
    "    ).assign(Min_Year=min_year, Max_Year=max_year, **row.drop([\"List of War Years\", \"Country Codes\"]))\n",
    "\n",
    "# Apply the expansion and concatenate results\n",
    "war_merged_data['List of War Years'] = war_merged_data['List of War Years'].apply(ast.literal_eval)\n",
    "war_merged_data['Country Codes'] = war_merged_data['Country Codes'].apply(lambda x: x.split(', '))\n",
    "expanded_df = pd.concat(war_merged_data.apply(expand_dataframe, axis=1).to_list(), ignore_index=True)"
   ]
  },
  {
   "cell_type": "code",
   "execution_count": 23,
   "metadata": {},
   "outputs": [
    {
     "data": {
      "text/html": [
       "<div>\n",
       "<style scoped>\n",
       "    .dataframe tbody tr th:only-of-type {\n",
       "        vertical-align: middle;\n",
       "    }\n",
       "\n",
       "    .dataframe tbody tr th {\n",
       "        vertical-align: top;\n",
       "    }\n",
       "\n",
       "    .dataframe thead th {\n",
       "        text-align: right;\n",
       "    }\n",
       "</style>\n",
       "<table border=\"1\" class=\"dataframe\">\n",
       "  <thead>\n",
       "    <tr style=\"text-align: right;\">\n",
       "      <th></th>\n",
       "      <th>Year</th>\n",
       "      <th>Country Code</th>\n",
       "      <th>Min_Year</th>\n",
       "      <th>Max_Year</th>\n",
       "      <th>Date</th>\n",
       "      <th>War Name</th>\n",
       "      <th>Combatants</th>\n",
       "      <th>Location</th>\n",
       "      <th>Countries Participants</th>\n",
       "    </tr>\n",
       "  </thead>\n",
       "  <tbody>\n",
       "    <tr>\n",
       "      <th>0</th>\n",
       "      <td>1939</td>\n",
       "      <td>US</td>\n",
       "      <td>1939</td>\n",
       "      <td>1945</td>\n",
       "      <td>1939–1945</td>\n",
       "      <td>World War II</td>\n",
       "      <td>Allied Powers vs. Axis Powers</td>\n",
       "      <td>Global</td>\n",
       "      <td>United States, Soviet Union, United Kingdom, C...</td>\n",
       "    </tr>\n",
       "    <tr>\n",
       "      <th>1</th>\n",
       "      <td>1939</td>\n",
       "      <td>SU</td>\n",
       "      <td>1939</td>\n",
       "      <td>1945</td>\n",
       "      <td>1939–1945</td>\n",
       "      <td>World War II</td>\n",
       "      <td>Allied Powers vs. Axis Powers</td>\n",
       "      <td>Global</td>\n",
       "      <td>United States, Soviet Union, United Kingdom, C...</td>\n",
       "    </tr>\n",
       "    <tr>\n",
       "      <th>2</th>\n",
       "      <td>1939</td>\n",
       "      <td>GB</td>\n",
       "      <td>1939</td>\n",
       "      <td>1945</td>\n",
       "      <td>1939–1945</td>\n",
       "      <td>World War II</td>\n",
       "      <td>Allied Powers vs. Axis Powers</td>\n",
       "      <td>Global</td>\n",
       "      <td>United States, Soviet Union, United Kingdom, C...</td>\n",
       "    </tr>\n",
       "    <tr>\n",
       "      <th>3</th>\n",
       "      <td>1939</td>\n",
       "      <td>CN</td>\n",
       "      <td>1939</td>\n",
       "      <td>1945</td>\n",
       "      <td>1939–1945</td>\n",
       "      <td>World War II</td>\n",
       "      <td>Allied Powers vs. Axis Powers</td>\n",
       "      <td>Global</td>\n",
       "      <td>United States, Soviet Union, United Kingdom, C...</td>\n",
       "    </tr>\n",
       "    <tr>\n",
       "      <th>4</th>\n",
       "      <td>1939</td>\n",
       "      <td>FR</td>\n",
       "      <td>1939</td>\n",
       "      <td>1945</td>\n",
       "      <td>1939–1945</td>\n",
       "      <td>World War II</td>\n",
       "      <td>Allied Powers vs. Axis Powers</td>\n",
       "      <td>Global</td>\n",
       "      <td>United States, Soviet Union, United Kingdom, C...</td>\n",
       "    </tr>\n",
       "  </tbody>\n",
       "</table>\n",
       "</div>"
      ],
      "text/plain": [
       "   Year Country Code Min_Year Max_Year       Date      War Name  \\\n",
       "0  1939           US     1939     1945  1939–1945  World War II   \n",
       "1  1939           SU     1939     1945  1939–1945  World War II   \n",
       "2  1939           GB     1939     1945  1939–1945  World War II   \n",
       "3  1939           CN     1939     1945  1939–1945  World War II   \n",
       "4  1939           FR     1939     1945  1939–1945  World War II   \n",
       "\n",
       "                      Combatants Location  \\\n",
       "0  Allied Powers vs. Axis Powers   Global   \n",
       "1  Allied Powers vs. Axis Powers   Global   \n",
       "2  Allied Powers vs. Axis Powers   Global   \n",
       "3  Allied Powers vs. Axis Powers   Global   \n",
       "4  Allied Powers vs. Axis Powers   Global   \n",
       "\n",
       "                              Countries Participants  \n",
       "0  United States, Soviet Union, United Kingdom, C...  \n",
       "1  United States, Soviet Union, United Kingdom, C...  \n",
       "2  United States, Soviet Union, United Kingdom, C...  \n",
       "3  United States, Soviet Union, United Kingdom, C...  \n",
       "4  United States, Soviet Union, United Kingdom, C...  "
      ]
     },
     "execution_count": 23,
     "metadata": {},
     "output_type": "execute_result"
    }
   ],
   "source": [
    "expanded_df.head()"
   ]
  },
  {
   "cell_type": "code",
   "execution_count": 24,
   "metadata": {},
   "outputs": [],
   "source": [
    "merged_wars_data_file = os.path.join(const.data_base_dir, \"merged_war_data_after_expand.csv\")\n",
    "expanded_df.to_csv(merged_wars_data_file, index=False)"
   ]
  }
 ],
 "metadata": {
  "kernelspec": {
   "display_name": "muscle_diff",
   "language": "python",
   "name": "python3"
  },
  "language_info": {
   "codemirror_mode": {
    "name": "ipython",
    "version": 3
   },
   "file_extension": ".py",
   "mimetype": "text/x-python",
   "name": "python",
   "nbconvert_exporter": "python",
   "pygments_lexer": "ipython3",
   "version": "3.8.6"
  }
 },
 "nbformat": 4,
 "nbformat_minor": 2
}
