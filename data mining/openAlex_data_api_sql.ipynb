{
 "cells": [
  {
   "cell_type": "code",
   "execution_count": 2,
   "metadata": {},
   "outputs": [],
   "source": [
    "import psycopg2\n",
    "import pandas as pd\n",
    "import vaex\n",
    "import requests\n",
    "import pandas as pd\n",
    "from joblib import Parallel, delayed\n",
    "import time\n",
    "import networkx as nx\n",
    "from bs4 import BeautifulSoup\n",
    "import pycountry\n",
    "import re\n",
    "from create_df_from_sql import *\n",
    "import os\n",
    "import sys"
   ]
  },
  {
   "cell_type": "code",
   "execution_count": null,
   "metadata": {},
   "outputs": [],
   "source": [
    "base_dir = '/home/reutme/Big_data/final_project'\n",
    "code_dir = os.path.join(base_dir, 'code')\n",
    "sys.path.append(code_dir)\n",
    "import const\n",
    "import params"
   ]
  },
  {
   "cell_type": "markdown",
   "metadata": {},
   "source": [
    "## OpenAlex API"
   ]
  },
  {
   "cell_type": "code",
   "execution_count": 3,
   "metadata": {},
   "outputs": [],
   "source": [
    "# Base URL for OpenAlex API\n",
    "BASE_URL = \"https://api.openalex.org\""
   ]
  },
  {
   "cell_type": "code",
   "execution_count": 4,
   "metadata": {},
   "outputs": [],
   "source": [
    "def extract_author_id(author_url):\n",
    "    author_id = author_url.split(\"/\")[-1]\n",
    "    return author_id"
   ]
  },
  {
   "cell_type": "code",
   "execution_count": 5,
   "metadata": {},
   "outputs": [],
   "source": [
    "def fetch_author_info(author_id):\n",
    "    \"\"\"Fetch detailed author information by author ID.\"\"\"\n",
    "    url = f\"{BASE_URL}/authors/{author_id}\"\n",
    "    response = requests.get(url)\n",
    "    if response.status_code == 200:\n",
    "        return response.json()\n",
    "    else:\n",
    "        raise Exception(f\"Failed to fetch author info: {response.status_code}\")\n",
    "\n",
    "\n",
    "# Function to fetch author information with retry mechanism\n",
    "def fetch_author_info_delay(author_id, retries=3, delay=2):\n",
    "    url = f\"https://api.openalex.org/authors/{author_id}\"\n",
    "    for attempt in range(retries):\n",
    "        response = requests.get(url)\n",
    "        if response.status_code == 200:\n",
    "            return response.json()\n",
    "        elif response.status_code == 429:\n",
    "            print(\"Rate limit exceeded. Retrying...\")\n",
    "            time.sleep(delay)  # Wait before retrying\n",
    "        else:\n",
    "            print(f\"Failed to fetch data for author ID {author_id}: {response.status_code}\")\n",
    "            return None\n",
    "    print(f\"Failed to fetch data for author ID {author_id} after {retries} retries.\")\n",
    "    return None\n",
    "\n",
    "def fetch_author_works(author_id):\n",
    "    \"\"\"Fetch works associated with an author by their ID.\"\"\"\n",
    "    url = f\"{BASE_URL}/works?filter=author.id:{author_id}\"\n",
    "    response = requests.get(url)\n",
    "    if response.status_code == 200:\n",
    "        return response.json()[\"results\"]\n",
    "    else:\n",
    "        raise Exception(f\"Failed to fetch works: {response.status_code}\")\n",
    "\n",
    "def evaluate_impact(author_data):\n",
    "    \"\"\"Evaluate research impact using h_index and i10_index.\"\"\"\n",
    "    impact_data = author_data['summary_stats']\n",
    "    h_index = impact_data.get(\"h_index\", \"Not available\")\n",
    "    i10_index = impact_data.get(\"i10_index\", \"Not available\")\n",
    "    return {\"h_index\": h_index, \"i10_index\": i10_index}\n",
    "\n",
    "def analyze_topics(author_data):\n",
    "    \"\"\"Analyze main areas of research interest.\"\"\"\n",
    "    topics = author_data.get(\"topics\", [])\n",
    "    return [topic[\"display_name\"] for topic in topics]\n",
    "\n",
    "def explore_affiliations(author_data):\n",
    "    \"\"\"Explore institutional affiliations.\"\"\"\n",
    "    affiliations = author_data.get(\"affiliations\", [])\n",
    "    institutions = [\n",
    "        {\"name\": inst['institution'].get(\"display_name\", \"Unknown\"), \"country\": inst['institution'].get(\"country_code\", \"Unknown\"), \"years\": inst['years']}\n",
    "        for inst in affiliations\n",
    "    ]\n",
    "    return institutions\n"
   ]
  },
  {
   "cell_type": "code",
   "execution_count": 6,
   "metadata": {},
   "outputs": [],
   "source": [
    "def process_author(author_id):\n",
    "    author_data = fetch_author_info_delay(author_id)\n",
    "    if not author_data:\n",
    "        return None\n",
    "\n",
    "    author_name = author_data.get('display_name', \"Unknown\")    \n",
    "    affiliations = explore_affiliations(author_data)\n",
    "    \n",
    "    rows = []\n",
    "    for affiliation in affiliations:\n",
    "        institution_name = affiliation['name']\n",
    "        country = affiliation['country']\n",
    "        years = affiliation['years']\n",
    "        \n",
    "        # Create a row for each year\n",
    "        for year in years:\n",
    "            rows.append({\n",
    "                \"author_id\": author_id,\n",
    "                \"author_name\": author_name,\n",
    "                \"institution_name\": institution_name,\n",
    "                \"country\": country,\n",
    "                \"year\": year\n",
    "            })\n",
    "    \n",
    "    return pd.DataFrame(rows)\n"
   ]
  },
  {
   "cell_type": "code",
   "execution_count": 7,
   "metadata": {},
   "outputs": [],
   "source": [
    "\n",
    "url = \"https://api.openalex.org/authors\"\n",
    "params = {\n",
    "    \"page\": 1, \n",
    "    \"per_page\": 200,\n",
    "}\n",
    "\n",
    "response = requests.get(url, params=params)\n",
    "if response.status_code == 200:\n",
    "    authors = response.json().get(\"results\", [])\n",
    "    author_ids = [extract_author_id(author[\"id\"]) for author in authors]\n",
    "# for author_id in author_ids:\n",
    "#     author_dfs = process_author(author_id)\n",
    "#     print(author_dfs)\n",
    "author_dfs = Parallel(n_jobs=2)(delayed(process_author)(author_id) for author_id in author_ids)\n",
    "final_df = pd.concat(author_dfs, ignore_index=True)\n"
   ]
  },
  {
   "cell_type": "code",
   "execution_count": 8,
   "metadata": {},
   "outputs": [
    {
     "data": {
      "text/html": [
       "<div>\n",
       "<style scoped>\n",
       "    .dataframe tbody tr th:only-of-type {\n",
       "        vertical-align: middle;\n",
       "    }\n",
       "\n",
       "    .dataframe tbody tr th {\n",
       "        vertical-align: top;\n",
       "    }\n",
       "\n",
       "    .dataframe thead th {\n",
       "        text-align: right;\n",
       "    }\n",
       "</style>\n",
       "<table border=\"1\" class=\"dataframe\">\n",
       "  <thead>\n",
       "    <tr style=\"text-align: right;\">\n",
       "      <th></th>\n",
       "      <th>author_id</th>\n",
       "      <th>author_name</th>\n",
       "      <th>institution_name</th>\n",
       "      <th>country</th>\n",
       "      <th>year</th>\n",
       "    </tr>\n",
       "  </thead>\n",
       "  <tbody>\n",
       "    <tr>\n",
       "      <th>0</th>\n",
       "      <td>A5010062957</td>\n",
       "      <td>A Boyle</td>\n",
       "      <td>University of Michigan–Ann Arbor</td>\n",
       "      <td>US</td>\n",
       "      <td>2022</td>\n",
       "    </tr>\n",
       "    <tr>\n",
       "      <th>1</th>\n",
       "      <td>A5010062957</td>\n",
       "      <td>A Boyle</td>\n",
       "      <td>University of Michigan–Ann Arbor</td>\n",
       "      <td>US</td>\n",
       "      <td>2021</td>\n",
       "    </tr>\n",
       "    <tr>\n",
       "      <th>2</th>\n",
       "      <td>A5010062957</td>\n",
       "      <td>A Boyle</td>\n",
       "      <td>Macquarie University</td>\n",
       "      <td>AU</td>\n",
       "      <td>2022</td>\n",
       "    </tr>\n",
       "    <tr>\n",
       "      <th>3</th>\n",
       "      <td>A5022654839</td>\n",
       "      <td>Terry Law</td>\n",
       "      <td>Environmental Molecular Sciences Laboratory</td>\n",
       "      <td>US</td>\n",
       "      <td>2023</td>\n",
       "    </tr>\n",
       "    <tr>\n",
       "      <th>4</th>\n",
       "      <td>A5022654839</td>\n",
       "      <td>Terry Law</td>\n",
       "      <td>Environmental Molecular Sciences Laboratory</td>\n",
       "      <td>US</td>\n",
       "      <td>2022</td>\n",
       "    </tr>\n",
       "  </tbody>\n",
       "</table>\n",
       "</div>"
      ],
      "text/plain": [
       "     author_id author_name                             institution_name  \\\n",
       "0  A5010062957     A Boyle             University of Michigan–Ann Arbor   \n",
       "1  A5010062957     A Boyle             University of Michigan–Ann Arbor   \n",
       "2  A5010062957     A Boyle                         Macquarie University   \n",
       "3  A5022654839   Terry Law  Environmental Molecular Sciences Laboratory   \n",
       "4  A5022654839   Terry Law  Environmental Molecular Sciences Laboratory   \n",
       "\n",
       "  country  year  \n",
       "0      US  2022  \n",
       "1      US  2021  \n",
       "2      AU  2022  \n",
       "3      US  2023  \n",
       "4      US  2022  "
      ]
     },
     "execution_count": 8,
     "metadata": {},
     "output_type": "execute_result"
    }
   ],
   "source": [
    "final_df.head()"
   ]
  },
  {
   "cell_type": "code",
   "execution_count": 11,
   "metadata": {},
   "outputs": [],
   "source": [
    "final_df = final_df.dropna()"
   ]
  },
  {
   "cell_type": "code",
   "execution_count": 13,
   "metadata": {},
   "outputs": [
    {
     "name": "stdout",
     "output_type": "stream",
     "text": [
      "['AE', 'AR', 'AT', 'AU', 'BD', 'BE', 'BG', 'BR', 'BY', 'CA', 'CH', 'CN', 'CZ', 'DE', 'DK', 'EG', 'ES', 'FR', 'GB', 'IE', 'IN', 'IT', 'JO', 'JP', 'KR', 'KZ', 'MO', 'MX', 'MY', 'NG', 'NL', 'NP', 'NZ', 'PL', 'QA', 'RE', 'RO', 'RS', 'RU', 'SA', 'SE', 'SG', 'SK', 'TH', 'TW', 'UA', 'US', 'UY', 'UZ', 'VN', 'ZA', 'ZW']\n"
     ]
    }
   ],
   "source": [
    "unique_countries_list = final_df['country'].unique().tolist()\n",
    "unique_countries_list.sort()\n",
    "print(unique_countries_list)"
   ]
  },
  {
   "cell_type": "markdown",
   "metadata": {},
   "source": [
    "## OpenAlex Data Base"
   ]
  },
  {
   "cell_type": "code",
   "execution_count": 2,
   "metadata": {},
   "outputs": [],
   "source": [
    "PASSWORD = const.PASSWORD\n",
    "# Database connection parameters\n",
    "db_params = const.db_params"
   ]
  },
  {
   "cell_type": "markdown",
   "metadata": {},
   "source": [
    "### Explore the data base"
   ]
  },
  {
   "cell_type": "code",
   "execution_count": 4,
   "metadata": {},
   "outputs": [
    {
     "name": "stdout",
     "output_type": "stream",
     "text": [
      "Connected to PostgreSQL database. Version: PostgreSQL 12.2 on x86_64-pc-linux-gnu, compiled by gcc (GCC) 4.8.5 20150623 (Red Hat 4.8.5-39), 64-bit\n",
      "Connection closed.\n"
     ]
    }
   ],
   "source": [
    "try:\n",
    "    # Establish a connection to the PostgreSQL database\n",
    "    connection = psycopg2.connect(**db_params)    \n",
    "# Create a cursor object to interact with the database\n",
    "    cursor = connection.cursor()\n",
    "    \n",
    "    # Example query to test the connection\n",
    "    cursor.execute(\"SELECT version();\")\n",
    "    db_version = cursor.fetchone()\n",
    "    print(f\"Connected to PostgreSQL database. Version: {db_version[0]}\")\n",
    "\n",
    "except Exception as e:\n",
    "    print(f\"An error occurred: {e}\")\n",
    "finally:\n",
    "    # Close the connection (important to release resources)\n",
    "    if 'connection' in locals() and connection:\n",
    "        connection.close()\n",
    "        print(\"Connection closed.\")"
   ]
  },
  {
   "cell_type": "markdown",
   "metadata": {},
   "source": [
    "Extract from works_authorships the work id, author id and institution id"
   ]
  },
  {
   "cell_type": "code",
   "execution_count": 43,
   "metadata": {},
   "outputs": [],
   "source": [
    "query = \"\"\"\n",
    "    SELECT * \n",
    "    FROM openalex.works_authorships as wa\n",
    "    WHERE wa.work_id IS NOT NULL AND wa.author_id IS NOT NULL AND wa.institution_id IS NOT NULL\n",
    "    LIMIT 10;\n",
    "\"\"\""
   ]
  },
  {
   "cell_type": "code",
   "execution_count": 44,
   "metadata": {},
   "outputs": [
    {
     "name": "stdout",
     "output_type": "stream",
     "text": [
      "Total rows fetched: 10\n"
     ]
    },
    {
     "data": {
      "text/html": [
       "<table>\n",
       "<thead>\n",
       "<tr><th>#                            </th><th>work_id                         </th><th>author_position  </th><th>author_id                       </th><th>institution_id                  </th><th>raw_affiliation_string                             </th></tr>\n",
       "</thead>\n",
       "<tbody>\n",
       "<tr><td><i style='opacity: 0.6'>0</i></td><td>https://openalex.org/W4379231911</td><td>middle           </td><td>https://openalex.org/A5027283708</td><td>https://openalex.org/I4210128919</td><td>&#x27;Bourgogne Franche-Comté University, INSERM, Eta...</td></tr>\n",
       "<tr><td><i style='opacity: 0.6'>1</i></td><td>https://openalex.org/W4379231911</td><td>middle           </td><td>https://openalex.org/A5027283708</td><td>https://openalex.org/I154526488 </td><td>&#x27;Bourgogne Franche-Comté University, INSERM, Eta...</td></tr>\n",
       "<tr><td><i style='opacity: 0.6'>2</i></td><td>https://openalex.org/W4379231911</td><td>middle           </td><td>https://openalex.org/A5032052791</td><td>https://openalex.org/I4210118524</td><td>&#x27;Bourgogne Franche-Comté University, INSERM, Eta...</td></tr>\n",
       "<tr><td><i style='opacity: 0.6'>3</i></td><td>https://openalex.org/W4379231911</td><td>middle           </td><td>https://openalex.org/A5032052791</td><td>https://openalex.org/I4210128919</td><td>&#x27;Bourgogne Franche-Comté University, INSERM, Eta...</td></tr>\n",
       "<tr><td><i style='opacity: 0.6'>4</i></td><td>https://openalex.org/W4379231911</td><td>middle           </td><td>https://openalex.org/A5032052791</td><td>https://openalex.org/I154526488 </td><td>&#x27;Bourgogne Franche-Comté University, INSERM, Eta...</td></tr>\n",
       "</tbody>\n",
       "</table>"
      ],
      "text/plain": [
       "  #  work_id                           author_position    author_id                         institution_id                    raw_affiliation_string\n",
       "  0  https://openalex.org/W4379231911  middle             https://openalex.org/A5027283708  https://openalex.org/I4210128919  'Bourgogne Franche-Comté University, INSERM, Eta...\n",
       "  1  https://openalex.org/W4379231911  middle             https://openalex.org/A5027283708  https://openalex.org/I154526488   'Bourgogne Franche-Comté University, INSERM, Eta...\n",
       "  2  https://openalex.org/W4379231911  middle             https://openalex.org/A5032052791  https://openalex.org/I4210118524  'Bourgogne Franche-Comté University, INSERM, Eta...\n",
       "  3  https://openalex.org/W4379231911  middle             https://openalex.org/A5032052791  https://openalex.org/I4210128919  'Bourgogne Franche-Comté University, INSERM, Eta...\n",
       "  4  https://openalex.org/W4379231911  middle             https://openalex.org/A5032052791  https://openalex.org/I154526488   'Bourgogne Franche-Comté University, INSERM, Eta..."
      ]
     },
     "execution_count": 44,
     "metadata": {},
     "output_type": "execute_result"
    }
   ],
   "source": [
    "df_connection_all = sql_query(db_params, query)\n",
    "df_connection_all.head(5)"
   ]
  },
  {
   "cell_type": "markdown",
   "metadata": {},
   "source": [
    "Extract institution attributes based on institution id"
   ]
  },
  {
   "cell_type": "code",
   "execution_count": 45,
   "metadata": {},
   "outputs": [
    {
     "name": "stdout",
     "output_type": "stream",
     "text": [
      "Total rows fetched: 1\n"
     ]
    },
    {
     "data": {
      "text/html": [
       "<table>\n",
       "<thead>\n",
       "<tr><th>#                            </th><th>id                             </th><th>ror                      </th><th>display_name   </th><th>country_code  </th><th>type     </th><th>homepage_url                    </th><th>image_url                                          </th><th>image_thumbnail_url                                </th><th>display_name_acronyms   </th><th>display_name_alternatives  </th><th style=\"text-align: right;\">  works_count</th><th style=\"text-align: right;\">  cited_by_count</th><th>works_api_url                                      </th><th>updated_date                                       </th></tr>\n",
       "</thead>\n",
       "<tbody>\n",
       "<tr><td><i style='opacity: 0.6'>0</i></td><td>https://openalex.org/I187531555</td><td>https://ror.org/012a77v79</td><td>Lund University</td><td>SE            </td><td>education</td><td>http://www.lunduniversity.lu.se/</td><td>&#x27;https://commons.wikimedia.org/w/index.php?title...</td><td>&#x27;https://commons.wikimedia.org/w/index.php?title...</td><td>array([], dtype=float64)</td><td>array([], dtype=float64)   </td><td style=\"text-align: right;\">       170085</td><td style=\"text-align: right;\">         5463912</td><td>&#x27;https://api.openalex.org/works?filter=instituti...</td><td>&#x27;datetime.datetime(2023, 10, 19, 11, 29, 46, 702...</td></tr>\n",
       "</tbody>\n",
       "</table>"
      ],
      "text/plain": [
       "  #  id                               ror                        display_name     country_code    type       homepage_url                      image_url                                            image_thumbnail_url                                  display_name_acronyms     display_name_alternatives      works_count    cited_by_count  works_api_url                                        updated_date\n",
       "  0  https://openalex.org/I187531555  https://ror.org/012a77v79  Lund University  SE              education  http://www.lunduniversity.lu.se/  'https://commons.wikimedia.org/w/index.php?title...  'https://commons.wikimedia.org/w/index.php?title...  array([], dtype=float64)  array([], dtype=float64)            170085           5463912  'https://api.openalex.org/works?filter=instituti...  'datetime.datetime(2023, 10, 19, 11, 29, 46, 702..."
      ]
     },
     "execution_count": 45,
     "metadata": {},
     "output_type": "execute_result"
    }
   ],
   "source": [
    "query = \"\"\"\n",
    "    SELECT * \n",
    "    FROM openalex.institutions AS inst_table\n",
    "    WHERE inst_table.id = 'https://openalex.org/I187531555';\n",
    "\"\"\"\n",
    "sql_query(db_params, query)"
   ]
  },
  {
   "cell_type": "markdown",
   "metadata": {},
   "source": [
    "Extract author attributes based on author id"
   ]
  },
  {
   "cell_type": "code",
   "execution_count": null,
   "metadata": {},
   "outputs": [],
   "source": [
    "query = \"\"\"\n",
    "    SELECT * \n",
    "    FROM openalex.authors AS auth\n",
    "    WHERE auth.id = 'https://openalex.org/A5013167854';\n",
    "\"\"\""
   ]
  },
  {
   "cell_type": "code",
   "execution_count": 46,
   "metadata": {},
   "outputs": [
    {
     "name": "stdout",
     "output_type": "stream",
     "text": [
      "Total rows fetched: 1\n"
     ]
    },
    {
     "data": {
      "text/html": [
       "<table>\n",
       "<thead>\n",
       "<tr><th>#                            </th><th>id                             </th><th>ror                      </th><th>display_name   </th><th>country_code  </th><th>type     </th><th>homepage_url                    </th><th>image_url                                          </th><th>image_thumbnail_url                                </th><th>display_name_acronyms   </th><th>display_name_alternatives  </th><th style=\"text-align: right;\">  works_count</th><th style=\"text-align: right;\">  cited_by_count</th><th>works_api_url                                      </th><th>updated_date                                       </th></tr>\n",
       "</thead>\n",
       "<tbody>\n",
       "<tr><td><i style='opacity: 0.6'>0</i></td><td>https://openalex.org/I187531555</td><td>https://ror.org/012a77v79</td><td>Lund University</td><td>SE            </td><td>education</td><td>http://www.lunduniversity.lu.se/</td><td>&#x27;https://commons.wikimedia.org/w/index.php?title...</td><td>&#x27;https://commons.wikimedia.org/w/index.php?title...</td><td>array([], dtype=float64)</td><td>array([], dtype=float64)   </td><td style=\"text-align: right;\">       170085</td><td style=\"text-align: right;\">         5463912</td><td>&#x27;https://api.openalex.org/works?filter=instituti...</td><td>&#x27;datetime.datetime(2023, 10, 19, 11, 29, 46, 702...</td></tr>\n",
       "</tbody>\n",
       "</table>"
      ],
      "text/plain": [
       "  #  id                               ror                        display_name     country_code    type       homepage_url                      image_url                                            image_thumbnail_url                                  display_name_acronyms     display_name_alternatives      works_count    cited_by_count  works_api_url                                        updated_date\n",
       "  0  https://openalex.org/I187531555  https://ror.org/012a77v79  Lund University  SE              education  http://www.lunduniversity.lu.se/  'https://commons.wikimedia.org/w/index.php?title...  'https://commons.wikimedia.org/w/index.php?title...  array([], dtype=float64)  array([], dtype=float64)            170085           5463912  'https://api.openalex.org/works?filter=instituti...  'datetime.datetime(2023, 10, 19, 11, 29, 46, 702..."
      ]
     },
     "execution_count": 46,
     "metadata": {},
     "output_type": "execute_result"
    }
   ],
   "source": [
    "sql_query(db_params, query)"
   ]
  },
  {
   "cell_type": "markdown",
   "metadata": {},
   "source": [
    "Extract work attributes based on work id"
   ]
  },
  {
   "cell_type": "code",
   "execution_count": 3,
   "metadata": {},
   "outputs": [],
   "source": [
    "query = \"\"\"\n",
    "    SELECT * \n",
    "    FROM openalex.works AS work\n",
    "    WHERE work.id = 'https://openalex.org/W3198663116';\n",
    "\"\"\""
   ]
  },
  {
   "cell_type": "code",
   "execution_count": 4,
   "metadata": {},
   "outputs": [
    {
     "name": "stdout",
     "output_type": "stream",
     "text": [
      "Connection to the database established.\n",
      "Cursor created successfully.\n",
      "Query executed successfully.\n",
      "No more rows to fetch. Exiting.\n",
      "Total shape fetched: (1, 13)\n",
      "Database connection closed.\n"
     ]
    }
   ],
   "source": [
    "df = sql_query(db_params, query)"
   ]
  },
  {
   "cell_type": "code",
   "execution_count": 10,
   "metadata": {},
   "outputs": [
    {
     "name": "stdout",
     "output_type": "stream",
     "text": [
      "Total rows fetched: 200\n"
     ]
    },
    {
     "data": {
      "text/html": [
       "<table>\n",
       "<thead>\n",
       "<tr><th>#                              </th><th>work_id                         </th><th>publication_year  </th><th>publication_date  </th><th>cited_by_count  </th></tr>\n",
       "</thead>\n",
       "<tbody>\n",
       "<tr><td><i style='opacity: 0.6'>0</i>  </td><td>https://openalex.org/W1588569265</td><td>2011              </td><td>2011-02-04        </td><td>0               </td></tr>\n",
       "<tr><td><i style='opacity: 0.6'>1</i>  </td><td>https://openalex.org/W1588573310</td><td>2021              </td><td>2021-08-26        </td><td>0               </td></tr>\n",
       "<tr><td><i style='opacity: 0.6'>2</i>  </td><td>https://openalex.org/W1588573632</td><td>2013              </td><td>2013-01-01        </td><td>0               </td></tr>\n",
       "<tr><td><i style='opacity: 0.6'>3</i>  </td><td>https://openalex.org/W1588573947</td><td>2014              </td><td>2014-01-01        </td><td>0               </td></tr>\n",
       "<tr><td><i style='opacity: 0.6'>4</i>  </td><td>https://openalex.org/W1588574714</td><td>2014              </td><td>2014-10-01        </td><td>0               </td></tr>\n",
       "<tr><td>...                            </td><td>...                             </td><td>...               </td><td>...               </td><td>...             </td></tr>\n",
       "<tr><td><i style='opacity: 0.6'>195</i></td><td>https://openalex.org/W1588833533</td><td>2012              </td><td>2012-01-01        </td><td>0               </td></tr>\n",
       "<tr><td><i style='opacity: 0.6'>196</i></td><td>https://openalex.org/W1588834031</td><td>2012              </td><td>2012-08-27        </td><td>0               </td></tr>\n",
       "<tr><td><i style='opacity: 0.6'>197</i></td><td>https://openalex.org/W1588834755</td><td>2012              </td><td>2012-11-15        </td><td>0               </td></tr>\n",
       "<tr><td><i style='opacity: 0.6'>198</i></td><td>https://openalex.org/W1588835316</td><td>2014              </td><td>2014-01-01        </td><td>0               </td></tr>\n",
       "<tr><td><i style='opacity: 0.6'>199</i></td><td>https://openalex.org/W1588839966</td><td>2014              </td><td>2014-03-01        </td><td>0               </td></tr>\n",
       "</tbody>\n",
       "</table>"
      ],
      "text/plain": [
       "#    work_id                           publication_year    publication_date    cited_by_count\n",
       "0    https://openalex.org/W1588569265  2011                2011-02-04          0\n",
       "1    https://openalex.org/W1588573310  2021                2021-08-26          0\n",
       "2    https://openalex.org/W1588573632  2013                2013-01-01          0\n",
       "3    https://openalex.org/W1588573947  2014                2014-01-01          0\n",
       "4    https://openalex.org/W1588574714  2014                2014-10-01          0\n",
       "...  ...                               ...                 ...                 ...\n",
       "195  https://openalex.org/W1588833533  2012                2012-01-01          0\n",
       "196  https://openalex.org/W1588834031  2012                2012-08-27          0\n",
       "197  https://openalex.org/W1588834755  2012                2012-11-15          0\n",
       "198  https://openalex.org/W1588835316  2014                2014-01-01          0\n",
       "199  https://openalex.org/W1588839966  2014                2014-03-01          0"
      ]
     },
     "execution_count": 10,
     "metadata": {},
     "output_type": "execute_result"
    }
   ],
   "source": [
    "query_w = \"\"\"SELECT id AS work_id, publication_year, publication_date, cited_by_count \n",
    "            FROM openalex.works as w \n",
    "            WHERE w.publication_year > 2010 LIMIT 200;\"\"\"\n",
    "sql_query(db_params, query_w)"
   ]
  },
  {
   "cell_type": "markdown",
   "metadata": {},
   "source": [
    "### Extract all the data using sql query"
   ]
  },
  {
   "cell_type": "code",
   "execution_count": 10,
   "metadata": {},
   "outputs": [],
   "source": [
    "query_all = \"\"\"\n",
    "    SELECT \n",
    "        wa.work_id,\n",
    "        wa.author_id,\n",
    "        wa.institution_id,\n",
    "        w.publication_year,\n",
    "        w.publication_date,\n",
    "        w.cited_by_count,\n",
    "        a.display_name AS author_name,\n",
    "        i.display_name AS institution_name,\n",
    "        i.country_code\n",
    "    FROM openalex.works_authorships AS wa\n",
    "    JOIN openalex.works AS w ON wa.work_id = w.id\n",
    "    JOIN openalex.authors AS a ON wa.author_id = a.id\n",
    "    JOIN openalex.institutions AS i ON wa.institution_id = i.id\n",
    "    WHERE wa.work_id IS NOT NULL AND wa.author_id IS NOT NULL AND wa.institution_id IS NOT NULL\n",
    "    LIMIT 1000;\n",
    "\"\"\""
   ]
  },
  {
   "cell_type": "code",
   "execution_count": 51,
   "metadata": {},
   "outputs": [
    {
     "name": "stdout",
     "output_type": "stream",
     "text": [
      "Total rows fetched: 1000\n"
     ]
    },
    {
     "data": {
      "text/html": [
       "<table>\n",
       "<thead>\n",
       "<tr><th>#                            </th><th>work_id                         </th><th>author_id                       </th><th>institution_id                 </th><th style=\"text-align: right;\">  publication_year</th><th>publication_date  </th><th style=\"text-align: right;\">  cited_by_count</th><th>author_name     </th><th>institution_name       </th><th>country_code  </th></tr>\n",
       "</thead>\n",
       "<tbody>\n",
       "<tr><td><i style='opacity: 0.6'>0</i></td><td>https://openalex.org/W1552429227</td><td>https://openalex.org/A5026835600</td><td>https://openalex.org/I177055848</td><td style=\"text-align: right;\">              2013</td><td>2013-04-17        </td><td style=\"text-align: right;\">               0</td><td>Achmad Wicaksono</td><td>University of Brawijaya</td><td>ID            </td></tr>\n",
       "<tr><td><i style='opacity: 0.6'>1</i></td><td>https://openalex.org/W1552429227</td><td>https://openalex.org/A5070253412</td><td>https://openalex.org/I177055848</td><td style=\"text-align: right;\">              2013</td><td>2013-04-17        </td><td style=\"text-align: right;\">               0</td><td>Harnen Sulistio </td><td>University of Brawijaya</td><td>ID            </td></tr>\n",
       "<tr><td><i style='opacity: 0.6'>2</i></td><td>https://openalex.org/W1552429227</td><td>https://openalex.org/A5057585820</td><td>https://openalex.org/I177055848</td><td style=\"text-align: right;\">              2013</td><td>2013-04-17        </td><td style=\"text-align: right;\">               0</td><td>Ludfi Djakfar   </td><td>University of Brawijaya</td><td>ID            </td></tr>\n",
       "<tr><td><i style='opacity: 0.6'>3</i></td><td>https://openalex.org/W1552429227</td><td>https://openalex.org/A5056862134</td><td>https://openalex.org/I177055848</td><td style=\"text-align: right;\">              2013</td><td>2013-04-17        </td><td style=\"text-align: right;\">               0</td><td>Hendi Bowoputro </td><td>University of Brawijaya</td><td>ID            </td></tr>\n",
       "<tr><td><i style='opacity: 0.6'>4</i></td><td>https://openalex.org/W1552431148</td><td>https://openalex.org/A5091060974</td><td>https://openalex.org/I150468666</td><td style=\"text-align: right;\">              2014</td><td>2014-11-25        </td><td style=\"text-align: right;\">               0</td><td>Pratik Pimple   </td><td>Emory University       </td><td>US            </td></tr>\n",
       "</tbody>\n",
       "</table>"
      ],
      "text/plain": [
       "  #  work_id                           author_id                         institution_id                     publication_year  publication_date      cited_by_count  author_name       institution_name         country_code\n",
       "  0  https://openalex.org/W1552429227  https://openalex.org/A5026835600  https://openalex.org/I177055848                2013  2013-04-17                         0  Achmad Wicaksono  University of Brawijaya  ID\n",
       "  1  https://openalex.org/W1552429227  https://openalex.org/A5070253412  https://openalex.org/I177055848                2013  2013-04-17                         0  Harnen Sulistio   University of Brawijaya  ID\n",
       "  2  https://openalex.org/W1552429227  https://openalex.org/A5057585820  https://openalex.org/I177055848                2013  2013-04-17                         0  Ludfi Djakfar     University of Brawijaya  ID\n",
       "  3  https://openalex.org/W1552429227  https://openalex.org/A5056862134  https://openalex.org/I177055848                2013  2013-04-17                         0  Hendi Bowoputro   University of Brawijaya  ID\n",
       "  4  https://openalex.org/W1552431148  https://openalex.org/A5091060974  https://openalex.org/I150468666                2014  2014-11-25                         0  Pratik Pimple     Emory University         US"
      ]
     },
     "execution_count": 51,
     "metadata": {},
     "output_type": "execute_result"
    }
   ],
   "source": [
    "sql_query(db_params, query_all).head(5)"
   ]
  },
  {
   "cell_type": "markdown",
   "metadata": {},
   "source": [
    "### Extract each table using sql query and vaex"
   ]
  },
  {
   "cell_type": "code",
   "execution_count": 35,
   "metadata": {},
   "outputs": [],
   "source": [
    "query_wa = \"\"\"\n",
    "    SELECT  work_id, author_id, institution_id \n",
    "    FROM openalex.works_authorships as wa\n",
    "    WHERE wa.work_id IS NOT NULL AND wa.author_id IS NOT NULL AND wa.institution_id IS NOT NULL;\n",
    "\"\"\"\n",
    "query_w = \"\"\"SELECT id AS work_id, publication_year, publication_date, cited_by_count \n",
    "            FROM openalex.works as w \n",
    "            WHERE w.publication_year > 1900;\"\"\"\n",
    "\n",
    "query_a = \"SELECT id AS author_id, display_name AS author_name FROM openalex.authors;\"\n",
    "query_i = \"SELECT id AS institution_id, display_name AS institution_name, country_code FROM openalex.institutions;\""
   ]
  },
  {
   "cell_type": "code",
   "execution_count": 36,
   "metadata": {},
   "outputs": [
    {
     "name": "stdout",
     "output_type": "stream",
     "text": [
      "Total rows fetched: 1000000\n",
      "Data saved to output.csv successfully!\n"
     ]
    }
   ],
   "source": [
    "df_w = sql_query(db_params, query_w, 'works_df.csv')\n",
    "df_wa = sql_query(db_params, query_wa, 'work_inst_auth_df.csv')\n",
    "df_a = sql_query(db_params, query_a, 'author_df.csv')\n",
    "df_i = sql_query(db_params, query_i, 'inst_df.csv')"
   ]
  },
  {
   "cell_type": "markdown",
   "metadata": {},
   "source": [
    "### Merge csv to one dataframe"
   ]
  },
  {
   "cell_type": "code",
   "execution_count": 4,
   "metadata": {},
   "outputs": [],
   "source": [
    "main_path = os.path.join(const.data_base_dir,\"data_little_amount\")"
   ]
  },
  {
   "cell_type": "code",
   "execution_count": 5,
   "metadata": {},
   "outputs": [],
   "source": [
    "path_w = f'{main_path}/works_df.csv'\n",
    "path_wa = f'{main_path}/work_inst_auth_df.csv'\n",
    "path_a = f'{main_path}/author_df.csv'\n",
    "path_i = f'{main_path}/inst_df.csv'"
   ]
  },
  {
   "cell_type": "code",
   "execution_count": 6,
   "metadata": {},
   "outputs": [
    {
     "name": "stdout",
     "output_type": "stream",
     "text": [
      "Converting csv to chunk files\n",
      "Saved chunk #0 to /home/reutme/Big_data/final_project/data/data_little_amount/works_df.csv_chunk_0.hdf5\n",
      "Converting csv to chunk files\n",
      "Saved chunk #0 to /home/reutme/Big_data/final_project/data/data_little_amount/work_inst_auth_df.csv_chunk_0.hdf5\n",
      "Converting csv to chunk files\n",
      "Saved chunk #0 to /home/reutme/Big_data/final_project/data/data_little_amount/author_df.csv_chunk_0.hdf5\n",
      "Converting csv to chunk files\n",
      "Saved chunk #0 to /home/reutme/Big_data/final_project/data/data_little_amount/inst_df.csv_chunk_0.hdf5\n"
     ]
    }
   ],
   "source": [
    "df_w = vaex.read_csv(path_w, convert=True, progress=True)\n",
    "df_wa = vaex.read_csv(path_wa, convert=True, progress=True)\n",
    "df_a = vaex.read_csv(path_a, convert=True, progress=True)\n",
    "df_i = vaex.read_csv(path_i, convert=True, progress=True)\n"
   ]
  },
  {
   "cell_type": "code",
   "execution_count": 7,
   "metadata": {},
   "outputs": [
    {
     "name": "stdout",
     "output_type": "stream",
     "text": [
      "#    work_id                          author_id                         institution_id                    publication_year    publication_date    cited_by_count    author_name    institution_name    country_code\n",
      "0    https://openalex.org/W399541487  https://openalex.org/A5018056130  https://openalex.org/I121820613   --                  --                  --                --             --                  --\n",
      "1    https://openalex.org/W399542285  https://openalex.org/A5069860388  https://openalex.org/I197251160   --                  --                  --                --             --                  --\n",
      "2    https://openalex.org/W399542285  https://openalex.org/A5069860388  https://openalex.org/I4210141777  --                  --                  --                --             --                  --\n",
      "3    https://openalex.org/W399542285  https://openalex.org/A5069860388  https://openalex.org/I4210090701  --                  --                  --                --             --                  --\n",
      "4    https://openalex.org/W399547905  https://openalex.org/A5017816583  https://openalex.org/I27429435    --                  --                  --                --             --                  --\n",
      "...  ...                              ...                               ...                               ...                 ...                 ...               ...            ...                 ...\n",
      "95   https://openalex.org/W399810559  https://openalex.org/A5087157029  https://openalex.org/I118353179   --                  --                  --                --             --                  --\n",
      "96   https://openalex.org/W399811307  https://openalex.org/A5018456315  https://openalex.org/I85922643    --                  --                  --                --             --                  --\n",
      "97   https://openalex.org/W399811307  https://openalex.org/A5036970055  https://openalex.org/I85922643    --                  --                  --                --             --                  --\n",
      "98   https://openalex.org/W399811307  https://openalex.org/A5028840283  https://openalex.org/I4210158934  --                  --                  --                --             --                  --\n",
      "99   https://openalex.org/W399812329  https://openalex.org/A5081922991  https://openalex.org/I111262870   --                  --                  --                --             --                  --\n"
     ]
    }
   ],
   "source": [
    "df_merged = df_wa.join(df_w, on=\"work_id\", how=\"left\")\n",
    "\n",
    "# Join the result with df_a on \"author_id\"\n",
    "df_merged = df_merged.join(df_a, on=\"author_id\", how=\"left\")\n",
    "\n",
    "# Join the result with df_i on \"institution_id\"\n",
    "df_merged = df_merged.join(df_i, on=\"institution_id\", how=\"left\")\n",
    "\n",
    "# Step 3: Display the merged DataFrame\n",
    "print(df_merged)"
   ]
  },
  {
   "cell_type": "code",
   "execution_count": 10,
   "metadata": {},
   "outputs": [
    {
     "name": "stdout",
     "output_type": "stream",
     "text": [
      "merge data frame 5 first rows: /n  #  work_id                          author_id                         institution_id                    publication_year    publication_date    cited_by_count    author_name    institution_name    country_code\n",
      "  0  https://openalex.org/W399541487  https://openalex.org/A5018056130  https://openalex.org/I121820613   --                  --                  --                --             --                  --\n",
      "  1  https://openalex.org/W399542285  https://openalex.org/A5069860388  https://openalex.org/I197251160   --                  --                  --                --             --                  --\n",
      "  2  https://openalex.org/W399542285  https://openalex.org/A5069860388  https://openalex.org/I4210141777  --                  --                  --                --             --                  --\n",
      "  3  https://openalex.org/W399542285  https://openalex.org/A5069860388  https://openalex.org/I4210090701  --                  --                  --                --             --                  --\n",
      "  4  https://openalex.org/W399547905  https://openalex.org/A5017816583  https://openalex.org/I27429435    --                  --                  --                --             --                  --\n"
     ]
    }
   ],
   "source": [
    "print(f\"merge data frame 5 first rows: /n{df_merged.head(5)}\")\n"
   ]
  },
  {
   "cell_type": "markdown",
   "metadata": {},
   "source": [
    "## Read full data frame"
   ]
  },
  {
   "cell_type": "code",
   "execution_count": 2,
   "metadata": {},
   "outputs": [
    {
     "data": {
      "text/html": [
       "<table>\n",
       "<thead>\n",
       "<tr><th>#                            </th><th>work_id                         </th><th>author_id                       </th><th>institution_id                  </th><th style=\"text-align: right;\">  publication_year</th><th>publication_date  </th><th style=\"text-align: right;\">  cited_by_count</th><th>author_name     </th><th>institution_name                                   </th><th>country_code  </th></tr>\n",
       "</thead>\n",
       "<tbody>\n",
       "<tr><td><i style='opacity: 0.6'>0</i></td><td>https://openalex.org/W3126688306</td><td>https://openalex.org/A5021130645</td><td>https://openalex.org/I2799504677</td><td style=\"text-align: right;\">              2009</td><td>2009-12-31        </td><td style=\"text-align: right;\">               0</td><td>Carbonne Pierre </td><td>&quot;Institut de l&#x27;Audiovisuel et des Télécommunicat...</td><td>FR            </td></tr>\n",
       "<tr><td><i style='opacity: 0.6'>1</i></td><td>https://openalex.org/W3126688306</td><td>https://openalex.org/A5030528300</td><td>https://openalex.org/I2799504677</td><td style=\"text-align: right;\">              2009</td><td>2009-12-31        </td><td style=\"text-align: right;\">               0</td><td>Thomas Hain     </td><td>&quot;Institut de l&#x27;Audiovisuel et des Télécommunicat...</td><td>FR            </td></tr>\n",
       "<tr><td><i style='opacity: 0.6'>2</i></td><td>https://openalex.org/W3126688306</td><td>https://openalex.org/A5038081513</td><td>https://openalex.org/I190778170 </td><td style=\"text-align: right;\">              2009</td><td>2009-12-31        </td><td style=\"text-align: right;\">               0</td><td>Gary Clemo      </td><td>Ofcom                                              </td><td>GB            </td></tr>\n",
       "<tr><td><i style='opacity: 0.6'>3</i></td><td>https://openalex.org/W3126688432</td><td>https://openalex.org/A5082259378</td><td>https://openalex.org/I130701412 </td><td style=\"text-align: right;\">              2020</td><td>2020-12-23        </td><td style=\"text-align: right;\">               0</td><td>Віра Борщовецька</td><td>Chernivtsi National University                     </td><td>UA            </td></tr>\n",
       "<tr><td><i style='opacity: 0.6'>4</i></td><td>https://openalex.org/W3126688432</td><td>https://openalex.org/A5045080228</td><td>https://openalex.org/I130701412 </td><td style=\"text-align: right;\">              2020</td><td>2020-12-23        </td><td style=\"text-align: right;\">               0</td><td>Марія Рубанець  </td><td>Chernivtsi National University                     </td><td>UA            </td></tr>\n",
       "</tbody>\n",
       "</table>"
      ],
      "text/plain": [
       "  #  work_id                           author_id                         institution_id                      publication_year  publication_date      cited_by_count  author_name       institution_name                                     country_code\n",
       "  0  https://openalex.org/W3126688306  https://openalex.org/A5021130645  https://openalex.org/I2799504677                2009  2009-12-31                         0  Carbonne Pierre   \"Institut de l'Audiovisuel et des Télécommunicat...  FR\n",
       "  1  https://openalex.org/W3126688306  https://openalex.org/A5030528300  https://openalex.org/I2799504677                2009  2009-12-31                         0  Thomas Hain       \"Institut de l'Audiovisuel et des Télécommunicat...  FR\n",
       "  2  https://openalex.org/W3126688306  https://openalex.org/A5038081513  https://openalex.org/I190778170                 2009  2009-12-31                         0  Gary Clemo        Ofcom                                                GB\n",
       "  3  https://openalex.org/W3126688432  https://openalex.org/A5082259378  https://openalex.org/I130701412                 2020  2020-12-23                         0  Віра Борщовецька  Chernivtsi National University                       UA\n",
       "  4  https://openalex.org/W3126688432  https://openalex.org/A5045080228  https://openalex.org/I130701412                 2020  2020-12-23                         0  Марія Рубанець    Chernivtsi National University                       UA"
      ]
     },
     "execution_count": 2,
     "metadata": {},
     "output_type": "execute_result"
    }
   ],
   "source": [
    "# Path to the Parquet file\n",
    "file_path = os.path.join(const.data_base_dir, \"OpenAlex_merged_data.parquet\")\n",
    "\n",
    "# Read the Parquet file into a Vaex dataframe\n",
    "df = vaex.open(file_path)\n",
    "\n",
    "df.head(5)\n"
   ]
  },
  {
   "cell_type": "code",
   "execution_count": 4,
   "metadata": {},
   "outputs": [
    {
     "name": "stdout",
     "output_type": "stream",
     "text": [
      "  #  work_id                           author_id                         institution_id                      publication_year  publication_date      cited_by_count  author_name                  institution_name                                     country_code\n",
      "  0  https://openalex.org/W3126695662  https://openalex.org/A5014855960  https://openalex.org/I4210160450                2022  2022-01-01                         0  Aurélien Manchon             'Centre Interdisciplinaire de Nanoscience de Mar...  FR\n",
      "  1  https://openalex.org/W3126749003  https://openalex.org/A5044210345  https://openalex.org/I2800562746                2022  2022-03-01                         0  E. Carlos Rodríguez-Merchán  Hospital Universitario La Paz                        ES\n",
      "  2  https://openalex.org/W3126853602  https://openalex.org/A5044210345  https://openalex.org/I2800562746                2022  2022-07-01                         0  E. Carlos Rodríguez-Merchán  Hospital Universitario La Paz                        ES\n",
      "  3  https://openalex.org/W3126917680  https://openalex.org/A5005313274  https://openalex.org/I120514687                 2022  2022-02-01                         0  Majid Kazemi                 Baqiyatallah University of Medical Sciences          IR\n",
      "  4  https://openalex.org/W3126917680  https://openalex.org/A5063856565  https://openalex.org/I35568498                  2022  2022-02-01                         0  Hamed Aliyari                Kochi University of Technology                       JP\n"
     ]
    }
   ],
   "source": [
    "filtered_df = df[df['publication_year'] == 2022]\n",
    "\n",
    "print(filtered_df.head(5))"
   ]
  },
  {
   "cell_type": "code",
   "execution_count": 5,
   "metadata": {},
   "outputs": [
    {
     "name": "stdout",
     "output_type": "stream",
     "text": [
      "Number of rows: 365328026\n",
      "Number of columns: 9\n"
     ]
    }
   ],
   "source": [
    "# Get the shape of the DataFrame\n",
    "num_rows = len(df)  # Number of rows\n",
    "num_columns = len(df.get_column_names())  # Number of columns\n",
    "\n",
    "# Print the shape\n",
    "print(f\"Number of rows: {num_rows}\")\n",
    "print(f\"Number of columns: {num_columns}\")\n"
   ]
  },
  {
   "cell_type": "code",
   "execution_count": 5,
   "metadata": {},
   "outputs": [
    {
     "data": {
      "text/plain": [
       "missing       24901\n",
       "US         85285246\n",
       "CN         51488500\n",
       "FR         22687147\n",
       "JP         19769819\n",
       "             ...   \n",
       "TV               68\n",
       "CK                9\n",
       "BQ                3\n",
       "VI                3\n",
       "EH                1\n",
       "Length: 226, dtype: int64"
      ]
     },
     "execution_count": 5,
     "metadata": {},
     "output_type": "execute_result"
    }
   ],
   "source": [
    "df['country_code'].value_counts()"
   ]
  },
  {
   "cell_type": "code",
   "execution_count": 6,
   "metadata": {},
   "outputs": [
    {
     "name": "stdout",
     "output_type": "stream",
     "text": [
      "The maximum value in the column 'publication_year' is: 2025\n"
     ]
    }
   ],
   "source": [
    "# Get the maximum value of the column\n",
    "max_value = df['publication_year'].max()\n",
    "\n",
    "# Print the maximum value\n",
    "print(f\"The maximum value in the column '{'publication_year'}' is: {max_value}\")"
   ]
  }
 ],
 "metadata": {
  "kernelspec": {
   "display_name": "muscle_diff",
   "language": "python",
   "name": "python3"
  },
  "language_info": {
   "codemirror_mode": {
    "name": "ipython",
    "version": 3
   },
   "file_extension": ".py",
   "mimetype": "text/x-python",
   "name": "python",
   "nbconvert_exporter": "python",
   "pygments_lexer": "ipython3",
   "version": "3.8.6"
  }
 },
 "nbformat": 4,
 "nbformat_minor": 2
}
